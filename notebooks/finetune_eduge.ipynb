{
 "cells": [
  {
   "cell_type": "markdown",
   "metadata": {},
   "source": [
    "References :\n",
    "*   https://github.com/tugstugi/mongolian-bert/blob/master/MLM_check.ipynb\n",
    "*   https://colab.research.google.com/github/google-research/bert/blob/master/predicting_movie_reviews_with_bert_on_tf_hub.ipynb "
   ]
  },
  {
   "cell_type": "code",
   "execution_count": 1,
   "metadata": {},
   "outputs": [
    {
     "name": "stdout",
     "output_type": "stream",
     "text": [
      "Requirement already satisfied: scikit-learn in ./env/lib/python3.6/site-packages (0.20.3)\n",
      "Requirement already satisfied: numpy>=1.8.2 in ./env/lib/python3.6/site-packages (from scikit-learn) (1.16.2)\n",
      "Requirement already satisfied: scipy>=0.13.3 in ./env/lib/python3.6/site-packages (from scikit-learn) (1.2.1)\n",
      "Requirement already satisfied: pandas in ./env/lib/python3.6/site-packages (0.24.2)\n",
      "Requirement already satisfied: python-dateutil>=2.5.0 in ./env/lib/python3.6/site-packages (from pandas) (2.8.0)\n",
      "Requirement already satisfied: numpy>=1.12.0 in ./env/lib/python3.6/site-packages (from pandas) (1.16.2)\n",
      "Requirement already satisfied: pytz>=2011k in ./env/lib/python3.6/site-packages (from pandas) (2018.9)\n",
      "Requirement already satisfied: six>=1.5 in ./env/lib/python3.6/site-packages (from python-dateutil>=2.5.0->pandas) (1.12.0)\n",
      "Requirement already satisfied: tensorflow-gpu in ./env/lib/python3.6/site-packages (1.13.1)\n",
      "Requirement already satisfied: numpy>=1.13.3 in ./env/lib/python3.6/site-packages (from tensorflow-gpu) (1.16.2)\n",
      "Requirement already satisfied: grpcio>=1.8.6 in ./env/lib/python3.6/site-packages (from tensorflow-gpu) (1.19.0)\n",
      "Requirement already satisfied: wheel>=0.26 in ./env/lib/python3.6/site-packages (from tensorflow-gpu) (0.33.1)\n",
      "Requirement already satisfied: protobuf>=3.6.1 in ./env/lib/python3.6/site-packages (from tensorflow-gpu) (3.7.0)\n",
      "Requirement already satisfied: keras-preprocessing>=1.0.5 in ./env/lib/python3.6/site-packages (from tensorflow-gpu) (1.0.9)\n",
      "Requirement already satisfied: keras-applications>=1.0.6 in ./env/lib/python3.6/site-packages (from tensorflow-gpu) (1.0.7)\n",
      "Requirement already satisfied: termcolor>=1.1.0 in ./env/lib/python3.6/site-packages (from tensorflow-gpu) (1.1.0)\n",
      "Requirement already satisfied: gast>=0.2.0 in ./env/lib/python3.6/site-packages (from tensorflow-gpu) (0.2.2)\n",
      "Requirement already satisfied: tensorboard<1.14.0,>=1.13.0 in ./env/lib/python3.6/site-packages (from tensorflow-gpu) (1.13.1)\n",
      "Requirement already satisfied: six>=1.10.0 in ./env/lib/python3.6/site-packages (from tensorflow-gpu) (1.12.0)\n",
      "Requirement already satisfied: tensorflow-estimator<1.14.0rc0,>=1.13.0 in ./env/lib/python3.6/site-packages (from tensorflow-gpu) (1.13.0)\n",
      "Requirement already satisfied: astor>=0.6.0 in ./env/lib/python3.6/site-packages (from tensorflow-gpu) (0.7.1)\n",
      "Requirement already satisfied: absl-py>=0.1.6 in ./env/lib/python3.6/site-packages (from tensorflow-gpu) (0.7.1)\n",
      "Requirement already satisfied: setuptools in ./env/lib/python3.6/site-packages (from protobuf>=3.6.1->tensorflow-gpu) (40.8.0)\n",
      "Requirement already satisfied: h5py in ./env/lib/python3.6/site-packages (from keras-applications>=1.0.6->tensorflow-gpu) (2.9.0)\n",
      "Requirement already satisfied: markdown>=2.6.8 in ./env/lib/python3.6/site-packages (from tensorboard<1.14.0,>=1.13.0->tensorflow-gpu) (3.1)\n",
      "Requirement already satisfied: werkzeug>=0.11.15 in ./env/lib/python3.6/site-packages (from tensorboard<1.14.0,>=1.13.0->tensorflow-gpu) (0.15.1)\n",
      "Requirement already satisfied: mock>=2.0.0 in ./env/lib/python3.6/site-packages (from tensorflow-estimator<1.14.0rc0,>=1.13.0->tensorflow-gpu) (2.0.0)\n",
      "Requirement already satisfied: pbr>=0.11 in ./env/lib/python3.6/site-packages (from mock>=2.0.0->tensorflow-estimator<1.14.0rc0,>=1.13.0->tensorflow-gpu) (5.1.3)\n",
      "Requirement already satisfied: tensorflow_hub in ./env/lib/python3.6/site-packages (0.3.0)\n",
      "Requirement already satisfied: numpy>=1.12.0 in ./env/lib/python3.6/site-packages (from tensorflow_hub) (1.16.2)\n",
      "Requirement already satisfied: six>=1.10.0 in ./env/lib/python3.6/site-packages (from tensorflow_hub) (1.12.0)\n",
      "Requirement already satisfied: protobuf>=3.4.0 in ./env/lib/python3.6/site-packages (from tensorflow_hub) (3.7.0)\n",
      "Requirement already satisfied: setuptools in ./env/lib/python3.6/site-packages (from protobuf>=3.4.0->tensorflow_hub) (40.8.0)\n"
     ]
    },
    {
     "name": "stderr",
     "output_type": "stream",
     "text": [
      "WARNING: Logging before flag parsing goes to stderr.\n",
      "W0326 19:17:55.859298 139962948777792 __init__.py:56] Some hub symbols are not available because TensorFlow version is less than 1.14\n"
     ]
    }
   ],
   "source": [
    "!pip install scikit-learn\n",
    "!pip install pandas\n",
    "!pip install tensorflow_hub\n",
    "#!pip install tensorflow-gpu\n",
    "\n",
    "import sys\n",
    "sys.path.append(\"./bert\")\n",
    "from sklearn.model_selection import train_test_split\n",
    "import pandas as pd\n",
    "import tensorflow as tf\n",
    "import tensorflow_hub as hub\n",
    "from datetime import datetime\n",
    "\n",
    "import bert\n",
    "from bert import run_classifier\n",
    "from bert import optimization\n",
    "from bert import tokenization"
   ]
  },
  {
   "cell_type": "code",
   "execution_count": 5,
   "metadata": {},
   "outputs": [],
   "source": [
    "#from google.colab import auth\n",
    "#auth.authenticate_user()"
   ]
  },
  {
   "cell_type": "code",
   "execution_count": 9,
   "metadata": {},
   "outputs": [],
   "source": [
    "!mkdir -p tmp_model\n",
    "\n",
    "import os\n",
    "if not os.path.exists(\"tmp_model/model.ckpt-1000000.meta\"):\n",
    "    !gsutil cp gs://mongolian-bert/model-32k/model-1000000-checkpoint/model.ckpt-1000000.meta tmp_model/\n",
    "if not os.path.exists(\"tmp_model/model.ckpt-1000000.index\"):\n",
    "    !gsutil cp gs://mongolian-bert/model-32k/model-1000000-checkpoint/model.ckpt-1000000.index tmp_model/\n",
    "if not os.path.exists(\"tmp_model/model.ckpt-1000000.data-00000-of-00001\"):\n",
    "    !gsutil cp gs://mongolian-bert/model-32k/model-1000000-checkpoint/model.ckpt-1000000.data-00000-of-00001 tmp_model/\n",
    "    "
   ]
  },
  {
   "cell_type": "code",
   "execution_count": 10,
   "metadata": {},
   "outputs": [],
   "source": [
    "!cp model-32k/bert_config.json tmp_model/"
   ]
  },
  {
   "cell_type": "code",
   "execution_count": 12,
   "metadata": {},
   "outputs": [
    {
     "name": "stdout",
     "output_type": "stream",
     "text": [
      "Loaded a trained SentencePiece model.\n"
     ]
    }
   ],
   "source": [
    "from tokenization_sentencepiece import FullTokenizer\n",
    "tokenizer = FullTokenizer(model_file='model-32k/mn_cased.model', vocab_file='model-32k/mn_cased.vocab', do_lower_case=False)"
   ]
  },
  {
   "cell_type": "code",
   "execution_count": 14,
   "metadata": {},
   "outputs": [
    {
     "name": "stdout",
     "output_type": "stream",
     "text": [
      "['▁Монгол', '▁бахархлын', '▁өдөр', '▁буюу', '▁Их', '▁эзэн', '▁Чингис', '▁хааны', '▁мэндэлсэн', '▁өдөр', '▁өчигдөр', '▁тохио', 'в', '▁Эрдэмтэд', '▁Чингис', '▁хааны', '▁мэндэлсэн', '▁өдрийг', '▁билгийн', '▁тооллын', '▁гуравдугаар', '▁жарны', '▁усан', '▁морин', '▁жил', '▁буюу', '▁11', '62', '▁оны', '▁өвлийн', '▁тэргүүн', '▁сарын', '▁шинийн', '▁1-', 'ний', '▁өдөр', '▁хэмээн', '▁тогтоосон', '▁байдаг']\n"
     ]
    }
   ],
   "source": [
    "text = \"Монгол бахархлын өдөр буюу Их эзэн Чингис хааны мэндэлсэн өдөр өчигдөр тохиов Эрдэмтэд Чингис хааны мэндэлсэн өдрийг билгийн тооллын гуравдугаар жарны усан морин жил буюу 1162 оны өвлийн тэргүүн сарын шинийн 1-ний өдөр хэмээн тогтоосон байдаг\"\n",
    "tokenized_text = tokenizer.tokenize(text)\n",
    "print(tokenized_text)"
   ]
  },
  {
   "cell_type": "code",
   "execution_count": null,
   "metadata": {},
   "outputs": [],
   "source": []
  }
 ],
 "metadata": {
  "kernelspec": {
   "display_name": "Python 3",
   "language": "python",
   "name": "python3"
  },
  "language_info": {
   "codemirror_mode": {
    "name": "ipython",
    "version": 3
   },
   "file_extension": ".py",
   "mimetype": "text/x-python",
   "name": "python",
   "nbconvert_exporter": "python",
   "pygments_lexer": "ipython3",
   "version": "3.6.7"
  }
 },
 "nbformat": 4,
 "nbformat_minor": 2
}
